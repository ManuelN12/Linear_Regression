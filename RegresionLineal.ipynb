{
  "nbformat": 4,
  "nbformat_minor": 0,
  "metadata": {
    "colab": {
      "provenance": [],
      "include_colab_link": true
    },
    "kernelspec": {
      "name": "python3",
      "display_name": "Python 3"
    },
    "language_info": {
      "name": "python"
    }
  },
  "cells": [
    {
      "cell_type": "markdown",
      "metadata": {
        "id": "view-in-github",
        "colab_type": "text"
      },
      "source": [
        "<a href=\"https://colab.research.google.com/github/ManuelN12/Linear_Regression/blob/main/RegresionLineal.ipynb\" target=\"_parent\"><img src=\"https://colab.research.google.com/assets/colab-badge.svg\" alt=\"Open In Colab\"/></a>"
      ]
    },
    {
      "cell_type": "markdown",
      "source": [
        "# Regression Lineal in Python"
      ],
      "metadata": {
        "id": "4POz1TcmPbCi"
      }
    },
    {
      "cell_type": "code",
      "execution_count": null,
      "metadata": {
        "id": "zZRDxG4q2wBD"
      },
      "outputs": [],
      "source": [
        "import numpy as np\n",
        "import matplotlib.pyplot as plt"
      ]
    },
    {
      "cell_type": "markdown",
      "source": [
        "### Some synthetic data"
      ],
      "metadata": {
        "id": "L1Xg8LQNPjc4"
      }
    },
    {
      "cell_type": "code",
      "source": [
        "#Generate some synthetic data  Y= a2*x^2-a1*X+a0 = b_real + w1_real*X -w2_real*x ^2\n",
        "w1_real = 8\n",
        "w2_real = 7\n",
        "b_real=5\n",
        "N = 500\n",
        "X = np.random.normal(50, 500, N)  # np.random.normal(mean, dev standar, size of the data)\n",
        "noise = 2*np.random.normal(0, 100, N)\n",
        "Y = -np.dot(X,w1_real)+np.dot(X**2,w2_real) + b_real + noise \n",
        "plt.scatter(X,Y)"
      ],
      "metadata": {
        "id": "lLW7C_hn27OA",
        "colab": {
          "base_uri": "https://localhost:8080/",
          "height": 293
        },
        "outputId": "6f9cae5d-ec14-41c7-8afa-1bfc077741ac"
      },
      "execution_count": null,
      "outputs": [
        {
          "output_type": "execute_result",
          "data": {
            "text/plain": [
              "<matplotlib.collections.PathCollection at 0x7f4541f87690>"
            ]
          },
          "metadata": {},
          "execution_count": 231
        },
        {
          "output_type": "display_data",
          "data": {
            "text/plain": [
              "<Figure size 432x288 with 1 Axes>"
            ],
            "image/png": "[encoded data removed]"
          },
          "metadata": {
            "needs_background": "light"
          }
        }
      ]
    },
    {
      "cell_type": "markdown",
      "source": [
        "## Functions:"
      ],
      "metadata": {
        "id": "LPZWKUs5Puxf"
      }
    },
    {
      "cell_type": "code",
      "source": [
        "def cal_error(Y,Y_predict):\n",
        "  '''\n",
        "  Parameters:\n",
        "  ------------------\n",
        "  Y : vector with the data\n",
        "  Y_predict : vector with the predictions \n",
        "\n",
        "  Returns \n",
        "  ------------------\n",
        "  The MSE between the original value y and the prediction y_prediction\n",
        "  \n",
        "  '''\n",
        "  N = Y.shape[0]\n",
        "  error = np.sum((Y-Y_predict)**2)/N\n",
        "  return error\n"
      ],
      "metadata": {
        "id": "dHrtSXWD3BjJ"
      },
      "execution_count": null,
      "outputs": []
    },
    {
      "cell_type": "code",
      "source": [
        "def initialize_model():\n",
        "  '''\n",
        "  Initialize the value of w and b\n",
        "\n",
        "  Returns\n",
        "  -----------\n",
        "  w,b: The initial value of w and b\n",
        "  '''\n",
        "  w1 = np.random.normal(0,2)\n",
        "  w2 = np.random.normal(0,2)\n",
        "  b = np.random.normal(0,2)\n",
        "\n",
        "  return [w2,w1,b]\n",
        "  "
      ],
      "metadata": {
        "id": "1YUv61qQ3Ff_"
      },
      "execution_count": null,
      "outputs": []
    },
    {
      "cell_type": "code",
      "source": [
        "def predict(w2,w1,b,X):\n",
        "  '''\n",
        "  Parameters:\n",
        "  ------------------\n",
        "  w2, w1, b : parameters of the lineal model\n",
        "  X : data\n",
        "  Returns \n",
        "  ------------------\n",
        "  The prediction Y_prediction = w2*X**2 - w1*X + b\n",
        "  \n",
        "  '''\n",
        "  return w2*X*X -w1*X+b"
      ],
      "metadata": {
        "id": "HX22eZEo3MW4"
      },
      "execution_count": null,
      "outputs": []
    },
    {
      "cell_type": "code",
      "source": [
        "def gradients(w2_current,w1_current,b_current,alpha,X,Y):\n",
        "  ''' \n",
        "  Calculate the gradients\n",
        "\n",
        "  Parameters:\n",
        "  --------------\n",
        "  w_current, b_current: the current values of w and b\n",
        "  alpha: learning rate\n",
        "  X,Y : Vectors of the Data\n",
        "\n",
        "  Returns\n",
        "  ---------------------\n",
        "  w, b : the update value of w and b \n",
        "  '''\n",
        "  N = X.shape[0]\n",
        "\n",
        "  # Calculating the gradients      \n",
        "  dw2 = -(2/N)*np.sum((X**2)*(Y-(w2_current*X**2-w1_current*X+b_current)))\n",
        "  dw1 = (2/N)*np.sum(X*(Y-(w2_current*X**2-w1_current*X+b_current)))\n",
        "  db=-(2/N)*np.sum((Y-(w2_current*X**2-w1_current*X+b_current)))\n",
        "\n",
        "  # Updating w and b\n",
        "  w2 = w2_current - alpha*dw2\n",
        "  w1 = w1_current - alpha*dw1\n",
        "  b = b_current - alpha*db\n",
        "\n",
        "  #print(\"Dw2: \",dw2,\"dw1:\",dw1,\"db:\",db)\n",
        "  #print(w,b)\n",
        "\n",
        "  return w2, w1, b"
      ],
      "metadata": {
        "id": "ZkRhqvRq3VYo"
      },
      "execution_count": null,
      "outputs": []
    },
    {
      "cell_type": "markdown",
      "source": [
        "## The initial model"
      ],
      "metadata": {
        "id": "45WhGnARP0Pe"
      }
    },
    {
      "cell_type": "code",
      "source": [
        "[w2,w1,b] = initialize_model() # To initialize the model, i.e. the values of w1 and b.\n",
        "Y2 = np.dot(X**2,w2)- np.dot(X,w1)+ b\n",
        "error = cal_error(Y,Y2)\n",
        "plt.scatter(X,Y) # Draw the original data\n",
        "plt.plot(X,Y2,'r') # Draw the prediction\n",
        "plt.title(f\"Error = %.2f\" % error)"
      ],
      "metadata": {
        "colab": {
          "base_uri": "https://localhost:8080/",
          "height": 298
        },
        "id": "UJ0Fibgq3KL4",
        "outputId": "8cce363d-455d-4832-9e31-205aaa3652aa"
      },
      "execution_count": null,
      "outputs": [
        {
          "output_type": "execute_result",
          "data": {
            "text/plain": [
              "Text(0.5, 1.0, 'Error = 1218412635738.88')"
            ]
          },
          "metadata": {},
          "execution_count": 236
        },
        {
          "output_type": "display_data",
          "data": {
            "text/plain": [
              "<Figure size 432x288 with 1 Axes>"
            ],
            "image/png": "[encoded data removed]"
          },
          "metadata": {
            "needs_background": "light"
          }
        }
      ]
    },
    {
      "cell_type": "markdown",
      "source": [
        "## Fit the model"
      ],
      "metadata": {
        "id": "AuOemIWYP3t-"
      }
    },
    {
      "cell_type": "code",
      "source": [
        "# Fit the model\n",
        "Error = []\n",
        "alpha = 0.0000000000000009\n",
        "[w2,w1,b] = initialize_model()\n",
        "#print(\"c\",c)\n",
        "epochs = 60000\n",
        "\n",
        "\n",
        "print(\"----------------------------------------------\")\n",
        "print(\"----------------------------------------------\\n\")\n",
        "\n",
        "for i in range(epochs):\n",
        "  [w2,w1,b] = gradients(w2,w1,b,alpha,X,Y) #update w and b\n",
        "  #print(w2,w1,b)\n",
        "  #print(\"hola\",aa)\n",
        "  #if (w2>=1E300 or w1>=1E300 or b>=1E300 or w2<=-1E300 or w1<=-1E300 or b<=-1E300):\n",
        "   # break\n",
        "  Y_predict = predict(w2,w1,b,X) # Calculate the new Y_predict\n",
        "  #print(\"Hola\",Y_predict)\n",
        "  error = cal_error(Y,Y_predict)\n",
        "  if ((i+1)%200 == 0):\n",
        "    Error.append(error)\n",
        "  if ((i+1)%2000 == 0):       \n",
        "    print(\"\\n------------Epoch \",i)\n",
        "    print(\"Model w2= \",w2,\"w1=\",w1,\"b=\",b)\n",
        "    print(\"Error = \", error)\n",
        "    \n",
        "\n",
        "\n"
      ],
      "metadata": {
        "colab": {
          "base_uri": "https://localhost:8080/"
        },
        "id": "Q1q__gqA3bDw",
        "outputId": "1d180925-1fa9-4169-88af-635e45df4df6"
      },
      "execution_count": null,
      "outputs": [
        {
          "output_type": "stream",
          "name": "stdout",
          "text": [
            "----------------------------------------------\n",
            "----------------------------------------------\n",
            "\n",
            "\n",
            "------------Epoch  1999\n",
            "Model w2=  4.029971759548847 w1= 2.7489320075545174 b= -1.3698727467857177\n",
            "Error =  1510896612616.4827\n",
            "\n",
            "------------Epoch  3999\n",
            "Model w2=  5.39732527984674 w1= 2.7485552944699996 b= -1.3698707768846492\n",
            "Error =  439586260744.998\n",
            "\n",
            "------------Epoch  5999\n",
            "Model w2=  6.134861285774366 w1= 2.7483541331536805 b= -1.369869714177638\n",
            "Error =  127898227340.922\n",
            "\n",
            "------------Epoch  7999\n",
            "Model w2=  6.532680395698613 w1= 2.7482476625999124 b= -1.3698691408015005\n",
            "Error =  37215420063.43972\n",
            "\n",
            "------------Epoch  9999\n",
            "Model w2=  6.747259810319121 w1= 2.748192267238738 b= -1.369868831365244\n",
            "Error =  10832079491.74203\n",
            "\n",
            "------------Epoch  11999\n",
            "Model w2=  6.86300167423191 w1= 2.7481644212937395 b= -1.369868664295366\n",
            "Error =  3156085760.2500315\n",
            "\n",
            "------------Epoch  13999\n",
            "Model w2=  6.925431610214919 w1= 2.7481514352103056 b= -1.3698685740164074\n",
            "Error =  922824973.9813735\n",
            "\n",
            "------------Epoch  15999\n",
            "Model w2=  6.959105656971245 w1= 2.7481464643770828 b= -1.369868525157654\n",
            "Error =  273077989.3243659\n",
            "\n",
            "------------Epoch  17999\n",
            "Model w2=  6.977269081671171 w1= 2.74814581688322 b= -1.3698684986405236\n",
            "Error =  84039987.6600476\n",
            "\n",
            "------------Epoch  19999\n",
            "Model w2=  6.987066241127799 w1= 2.748147501351096 b= -1.3698684841742306\n",
            "Error =  29041087.388135713\n",
            "\n",
            "------------Epoch  21999\n",
            "Model w2=  6.992350725730646 w1= 2.748150443652725 b= -1.3698684762080282\n",
            "Error =  13039648.344989948\n",
            "\n",
            "------------Epoch  23999\n",
            "Model w2=  6.995201121317179 w1= 2.748154064414852 b= -1.3698684717479017\n",
            "Error =  8384167.059757391\n",
            "\n",
            "------------Epoch  25999\n",
            "Model w2=  6.99673859507103 w1= 2.7481580511296655 b= -1.36986846917892\n",
            "Error =  7029689.311366374\n",
            "\n",
            "------------Epoch  27999\n",
            "Model w2=  6.997567892695249 w1= 2.7481622352337736 b= -1.369868467630003\n",
            "Error =  6635608.612113015\n",
            "\n",
            "------------Epoch  29999\n",
            "Model w2=  6.9980152076164 w1= 2.7481665258058725 b= -1.3698684666312908\n",
            "Error =  6520946.726473585\n",
            "\n",
            "------------Epoch  31999\n",
            "Model w2=  6.9982564851136235 w1= 2.7481708738039545 b= -1.3698684659293614\n",
            "Error =  6487579.211199446\n",
            "\n",
            "------------Epoch  33999\n",
            "Model w2=  6.998386628206792 w1= 2.748175252775311 b= -1.3698684653875124\n",
            "Error =  6477863.555907845\n",
            "\n",
            "------------Epoch  35999\n",
            "Model w2=  6.998456826579603 w1= 2.7481796484516035 b= -1.3698684649320074\n",
            "Error =  6475029.194841489\n",
            "\n",
            "------------Epoch  37999\n",
            "Model w2=  6.998494691405192 w1= 2.7481840531366526 b= -1.369868464523076\n",
            "Error =  6474196.883951417\n",
            "\n",
            "------------Epoch  39999\n",
            "Model w2=  6.998515115857882 w1= 2.7481884626792157 b= -1.3698684641392667\n",
            "Error =  6473947.051420579\n",
            "\n",
            "------------Epoch  41999\n",
            "Model w2=  6.998526133158197 w1= 2.748192874840165 b= -1.3698684637690077\n",
            "Error =  6473866.685699665\n",
            "\n",
            "------------Epoch  43999\n",
            "Model w2=  6.998532076340154 w1= 2.7481972884117325 b= -1.3698684634060583\n",
            "Error =  6473835.624823967\n",
            "\n",
            "------------Epoch  45999\n",
            "Model w2=  6.998535282596416 w1= 2.7482017027424517 b= -1.3698684630470417\n",
            "Error =  6473818.908758296\n",
            "\n",
            "------------Epoch  47999\n",
            "Model w2=  6.9985370125839435 w1= 2.7482061174809487 b= -1.369868462690174\n",
            "Error =  6473806.366198154\n",
            "\n",
            "------------Epoch  49999\n",
            "Model w2=  6.998537946287727 w1= 2.7482105324376795 b= -1.3698684623344413\n",
            "Error =  6473795.037894672\n",
            "\n",
            "------------Epoch  51999\n",
            "Model w2=  6.998538450484524 w1= 2.7482149475104154 b= -1.369868461979335\n",
            "Error =  6473784.062881162\n",
            "\n",
            "------------Epoch  53999\n",
            "Model w2=  6.998538723009792 w1= 2.748219362644015 b= -1.3698684616245078\n",
            "Error =  6473773.190666883\n",
            "\n",
            "------------Epoch  55999\n",
            "Model w2=  6.998538870573905 w1= 2.748223777808732 b= -1.3698684612699297\n",
            "Error =  6473762.348373979\n",
            "\n",
            "------------Epoch  57999\n",
            "Model w2=  6.998538950735263 w1= 2.7482281929885195 b= -1.3698684609155465\n",
            "Error =  6473751.514799732\n",
            "\n",
            "------------Epoch  59999\n",
            "Model w2=  6.9985389945403185 w1= 2.7482326081747166 b= -1.3698684605611633\n",
            "Error =  6473740.683774344\n"
          ]
        }
      ]
    },
    {
      "cell_type": "markdown",
      "source": [
        "## Test the error model"
      ],
      "metadata": {
        "id": "nseh78KEP-DW"
      }
    },
    {
      "cell_type": "code",
      "source": [
        "plt.plot(Error)"
      ],
      "metadata": {
        "colab": {
          "base_uri": "https://localhost:8080/",
          "height": 293
        },
        "id": "sjN5suAV9I9X",
        "outputId": "e6c2917b-853c-4e4a-c992-79801cbdca1a"
      },
      "execution_count": null,
      "outputs": [
        {
          "output_type": "execute_result",
          "data": {
            "text/plain": [
              "[<matplotlib.lines.Line2D at 0x7f454116a290>]"
            ]
          },
          "metadata": {},
          "execution_count": 292
        },
        {
          "output_type": "display_data",
          "data": {
            "text/plain": [
              "<Figure size 432x288 with 1 Axes>"
            ],
            "image/png": "[encoded data removed]"
          },
          "metadata": {
            "needs_background": "light"
          }
        }
      ]
    },
    {
      "cell_type": "code",
      "source": [
        "Y2 = predict(w2,w1,b,X)\n",
        "error = cal_error(Y,Y2)\n",
        "plt.scatter(X,Y)\n",
        "plt.plot(X,Y2,'ro')\n",
        "plt.title(f\"Error = %.2f\" % error)"
      ],
      "metadata": {
        "colab": {
          "base_uri": "https://localhost:8080/",
          "height": 298
        },
        "id": "oFCG2j5D3hrH",
        "outputId": "dc35481e-27e4-4547-d27d-c88a822d77c0"
      },
      "execution_count": null,
      "outputs": [
        {
          "output_type": "execute_result",
          "data": {
            "text/plain": [
              "Text(0.5, 1.0, 'Error = 6473740.68')"
            ]
          },
          "metadata": {},
          "execution_count": 303
        },
        {
          "output_type": "display_data",
          "data": {
            "text/plain": [
              "<Figure size 432x288 with 1 Axes>"
            ],
            "image/png": "[encoded data removed]"
          },
          "metadata": {
            "needs_background": "light"
          }
        }
      ]
    }
  ]
}